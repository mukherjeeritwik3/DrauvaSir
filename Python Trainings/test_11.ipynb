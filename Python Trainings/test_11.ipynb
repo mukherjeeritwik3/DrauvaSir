{
 "cells": [
  {
   "cell_type": "markdown",
   "metadata": {},
   "source": [
    "# Data Structures"
   ]
  },
  {
   "cell_type": "markdown",
   "metadata": {},
   "source": [
    "## Stacks using linked list"
   ]
  },
  {
   "cell_type": "code",
   "execution_count": 1,
   "metadata": {},
   "outputs": [],
   "source": [
    "# Creation of node class\n",
    "class Node:\n",
    "    def __init__(self,data=None,link=None):\n",
    "        self.data = data\n",
    "        self.link = link\n",
    "    def __str__(self):\n",
    "        return (self.data)"
   ]
  },
  {
   "cell_type": "markdown",
   "metadata": {},
   "source": [
    "#### Stack uses Last In First Out critaria (LIFO). so the last element which is inserted in stacks has to be removed first. Using this termology we will implement stacks and define top of the stack."
   ]
  },
  {
   "cell_type": "code",
   "execution_count": 2,
   "metadata": {},
   "outputs": [],
   "source": [
    "# Creation of Stack CLass\n",
    "class Stack:\n",
    "    def __init__(self):\n",
    "        self.top = None # here self.top defines the top of the stack when initialized as it points to None or null\n",
    "    # Definiing the push method of Stack\n",
    "    def push(self,data):\n",
    "        node = Node(data,self.top)\n",
    "        self.top = node\n",
    "    # Defining the pop method of Stack\n",
    "    def pop(self):\n",
    "        if self.top == None:\n",
    "            print(\"Stack Underflow\")\n",
    "            return\n",
    "        data = self.top.data\n",
    "        self.top = self.top.link\n",
    "        return data\n",
    "    \n",
    "    # checking if the stack object is empty or not returns True or False\n",
    "    def isempty(self):\n",
    "        return self.top==None\n",
    "    "
   ]
  },
  {
   "cell_type": "code",
   "execution_count": 3,
   "metadata": {},
   "outputs": [],
   "source": [
    "# Importing the random number generator library\n",
    "from random import randint\n"
   ]
  },
  {
   "cell_type": "code",
   "execution_count": 20,
   "metadata": {},
   "outputs": [],
   "source": [
    "s = Stack()\n",
    "s.push(41)\n",
    "s.push(24)\n",
    "a = randint(10,20)\n",
    "for i in range(a):\n",
    "    s.push(randint(10,100))# random number push into stacks a times which is also randomly generated"
   ]
  },
  {
   "cell_type": "code",
   "execution_count": 21,
   "metadata": {},
   "outputs": [
    {
     "name": "stdout",
     "output_type": "stream",
     "text": [
      "28\n",
      "88\n",
      "24\n",
      "92\n",
      "73\n",
      "27\n",
      "97\n",
      "94\n",
      "11\n",
      "85\n",
      "67\n",
      "68\n",
      "80\n",
      "11\n",
      "96\n",
      "50\n",
      "83\n",
      "76\n",
      "97\n",
      "24\n",
      "41\n"
     ]
    }
   ],
   "source": [
    "while not s.isempty():\n",
    "    print(s.pop())"
   ]
  },
  {
   "cell_type": "code",
   "execution_count": 22,
   "metadata": {},
   "outputs": [
    {
     "name": "stdout",
     "output_type": "stream",
     "text": [
      "Stack Underflow\n"
     ]
    }
   ],
   "source": [
    "s.pop()"
   ]
  },
  {
   "cell_type": "markdown",
   "metadata": {},
   "source": [
    "## Queue using Linked List "
   ]
  },
  {
   "cell_type": "code",
   "execution_count": 23,
   "metadata": {},
   "outputs": [],
   "source": [
    "# Creation of node class\n",
    "class Node:\n",
    "    def __init__(self,data=None,link=None):\n",
    "        self.data = data\n",
    "        self.link = link\n",
    "    def __str__(self):\n",
    "        return (self.data)"
   ]
  },
  {
   "cell_type": "markdown",
   "metadata": {},
   "source": [
    "#### queue follows First in First Out (FIFO). so the first element which is inserted in queue is to be last. It has two parts front and rear. the insertion or enqueue of queue is done by and pointed by rear except the first element which is done by front pointer. and the deletion or dequeue is done by front as the followed by FIFO termology."
   ]
  },
  {
   "cell_type": "code",
   "execution_count": 27,
   "metadata": {},
   "outputs": [],
   "source": [
    "# Creation of Queue class\n",
    "class Queue:\n",
    "    def __init__(self):\n",
    "        # initilizing the queue class front and rear pointing to None or null\n",
    "        self.front = None\n",
    "        self.rear = None\n",
    "    # Insertion qeueue    \n",
    "    def enqueue(self, data):\n",
    "        node = Node(data)\n",
    "        if self.rear!=None:\n",
    "            self.rear.link = node\n",
    "        else: # executes when self.rear is None for initializing the first element of the queue\n",
    "            self.front = node\n",
    "        self.rear = node\n",
    "    # Deletion or pop of queue\n",
    "    def dequeue(self):\n",
    "        if self.front == None:\n",
    "            print(\"queue underflow\")\n",
    "            return\n",
    "        data = self.front.data\n",
    "        self.front = self.front.link\n",
    "        #Checks and clears rear to point to None if True\n",
    "        if self.front == None:\n",
    "            self.rear = None\n",
    "        return data \n",
    "    def isempty(self):\n",
    "        return self.front == None"
   ]
  },
  {
   "cell_type": "code",
   "execution_count": 28,
   "metadata": {},
   "outputs": [],
   "source": [
    "q = Queue()\n",
    "a = [12,34,53,3,12,5,234,63,24,12]"
   ]
  },
  {
   "cell_type": "code",
   "execution_count": 29,
   "metadata": {},
   "outputs": [],
   "source": [
    "for item in a:\n",
    "    q.enqueue(item)"
   ]
  },
  {
   "cell_type": "code",
   "execution_count": 30,
   "metadata": {},
   "outputs": [
    {
     "name": "stdout",
     "output_type": "stream",
     "text": [
      "12\n",
      "34\n",
      "53\n",
      "3\n",
      "12\n",
      "5\n",
      "234\n",
      "63\n",
      "24\n",
      "12\n"
     ]
    }
   ],
   "source": [
    "while not q.isempty():\n",
    "    print(q.dequeue())"
   ]
  },
  {
   "cell_type": "code",
   "execution_count": null,
   "metadata": {},
   "outputs": [],
   "source": []
  }
 ],
 "metadata": {
  "kernelspec": {
   "display_name": "Python 3",
   "language": "python",
   "name": "python3"
  },
  "language_info": {
   "codemirror_mode": {
    "name": "ipython",
    "version": 3
   },
   "file_extension": ".py",
   "mimetype": "text/x-python",
   "name": "python",
   "nbconvert_exporter": "python",
   "pygments_lexer": "ipython3",
   "version": "3.8.5"
  }
 },
 "nbformat": 4,
 "nbformat_minor": 4
}
