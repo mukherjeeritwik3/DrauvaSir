{
 "cells": [
  {
   "cell_type": "markdown",
   "metadata": {},
   "source": [
    "# Flow of Control"
   ]
  },
  {
   "cell_type": "markdown",
   "metadata": {},
   "source": [
    "## Sequential\n",
    "## Conditional\n",
    "## Iterative"
   ]
  },
  {
   "cell_type": "code",
   "execution_count": 2,
   "metadata": {},
   "outputs": [
    {
     "name": "stdout",
     "output_type": "stream",
     "text": [
      "Enter your marks45\n",
      "End\n"
     ]
    }
   ],
   "source": [
    "marks = int(input(\"Enter your marks\"))\n",
    "if (marks>=80):\n",
    "    print(\"good\")\n",
    "    print('Grade A')\n",
    "print(\"End\")    "
   ]
  },
  {
   "cell_type": "code",
   "execution_count": 3,
   "metadata": {},
   "outputs": [
    {
     "name": "stdout",
     "output_type": "stream",
     "text": [
      "Enter your marks412\n",
      "good\n",
      "Grade A\n",
      "End\n"
     ]
    }
   ],
   "source": [
    "marks = int(input(\"Enter your marks\"))\n",
    "if (marks>=80):\n",
    "    print(\"good\")\n",
    "    print('Grade A')\n",
    "    \n",
    "else:\n",
    "    print(\"Bad\")\n",
    "print(\"End\")    "
   ]
  },
  {
   "cell_type": "code",
   "execution_count": 4,
   "metadata": {},
   "outputs": [
    {
     "name": "stdout",
     "output_type": "stream",
     "text": [
      "Enter your marks15\n",
      "Grade = D\n"
     ]
    }
   ],
   "source": [
    "marks = int(input(\"Enter your marks\"))\n",
    "if (marks>=80 and marks<=100):\n",
    "    grade = 'A'\n",
    "    \n",
    "else:\n",
    "    if marks>=60:\n",
    "        grade = 'B'\n",
    "    else:\n",
    "        if marks>=40:\n",
    "            grade = 'C'\n",
    "        else:\n",
    "            grade = 'D'\n",
    "print(f\"Grade = {grade}\")\n"
   ]
  },
  {
   "cell_type": "code",
   "execution_count": 5,
   "metadata": {},
   "outputs": [
    {
     "name": "stdout",
     "output_type": "stream",
     "text": [
      "Enter your marks125\n",
      "Grade = B\n"
     ]
    }
   ],
   "source": [
    "marks = int(input(\"Enter your marks\"))\n",
    "if (marks>=80 and marks<=100):\n",
    "    grade = 'A'\n",
    "    if marks >= 90:\n",
    "        grade = 'A+'\n",
    "    \n",
    "else:\n",
    "    if marks>=60:\n",
    "        grade = 'B'\n",
    "    else:\n",
    "        if marks>=40:\n",
    "            grade = 'C'\n",
    "        else:\n",
    "            grade = 'D'\n",
    "print(f\"Grade = {grade}\")\n"
   ]
  },
  {
   "cell_type": "code",
   "execution_count": 6,
   "metadata": {},
   "outputs": [
    {
     "name": "stdout",
     "output_type": "stream",
     "text": [
      "Enter your marks5\n",
      "Grade = D\n"
     ]
    }
   ],
   "source": [
    "marks = int(input(\"Enter your marks\"))\n",
    "if (marks>=80 and marks<=100):\n",
    "    grade = 'A'\n",
    "    if marks >= 90:\n",
    "        grade = 'A+'\n",
    "    \n",
    "elif marks>=60:\n",
    "    grade = 'B'\n",
    "elif marks>=40:\n",
    "    grade = 'C'\n",
    "else:\n",
    "    grade = 'D'\n",
    "print(f\"Grade = {grade}\")\n"
   ]
  },
  {
   "cell_type": "markdown",
   "metadata": {},
   "source": [
    "### Conditional Operator in python is just expression\n",
    "\n",
    "x?y:z  ->  y if x else z\n",
    "    "
   ]
  },
  {
   "cell_type": "code",
   "execution_count": 7,
   "metadata": {},
   "outputs": [
    {
     "name": "stdout",
     "output_type": "stream",
     "text": [
      "Enter the Marks: 614\n",
      "good\n"
     ]
    }
   ],
   "source": [
    "marks = int(input(\"Enter the Marks: \"))\n",
    "b = 'good' if marks>=80 else 'bad'\n",
    "print(b)"
   ]
  },
  {
   "cell_type": "code",
   "execution_count": 10,
   "metadata": {
    "scrolled": false
   },
   "outputs": [
    {
     "name": "stdout",
     "output_type": "stream",
     "text": [
      "Enter the Marks: 55\n",
      "C\n"
     ]
    }
   ],
   "source": [
    "marks = int(input(\"Enter the Marks: \"))\n",
    "b = 'A' if marks>=80 else 'B' if marks<80 and marks>=60 else 'C' if marks<60 and marks>=40 else 'D'\n",
    "print(b)"
   ]
  },
  {
   "cell_type": "markdown",
   "metadata": {},
   "source": [
    "## Factorial recurisve defination \n",
    "### fact(n) = n * fact(n-1) if n>0"
   ]
  },
  {
   "cell_type": "code",
   "execution_count": 14,
   "metadata": {},
   "outputs": [],
   "source": [
    "def factorial(n):\n",
    "    return 1 if n==0 else n*factorial(n-1)"
   ]
  },
  {
   "cell_type": "code",
   "execution_count": 16,
   "metadata": {
    "scrolled": false
   },
   "outputs": [
    {
     "name": "stdout",
     "output_type": "stream",
     "text": [
      "120\n"
     ]
    }
   ],
   "source": [
    "print(factorial(5))"
   ]
  },
  {
   "cell_type": "markdown",
   "metadata": {},
   "source": [
    "## Fibonacci Series\n",
    "#### Recursive divide and conquer alogrithm (Time consuming for fibonnaci series as multiple subproblems repeats  best way is dynamic programming)"
   ]
  },
  {
   "cell_type": "code",
   "execution_count": 19,
   "metadata": {},
   "outputs": [],
   "source": [
    "def fibo(n):\n",
    "    return 0 if n==1 else 1 if n==2 else fibo(n-2)+fibo(n-1)"
   ]
  },
  {
   "cell_type": "code",
   "execution_count": 22,
   "metadata": {
    "scrolled": true
   },
   "outputs": [
    {
     "name": "stdout",
     "output_type": "stream",
     "text": [
      "3\n"
     ]
    }
   ],
   "source": [
    "print(fibo(5))"
   ]
  },
  {
   "cell_type": "markdown",
   "metadata": {},
   "source": [
    "# Loops\n",
    "## 1. Counter Control Loop\n",
    "##### CCL - Used when counter is initilize and know the number of iteration.\n",
    "## 2. Sentinel control loop\n",
    "##### SCL - Dunno the number of iteration it is used for such cases."
   ]
  },
  {
   "cell_type": "markdown",
   "metadata": {},
   "source": [
    "## While loop example.\n",
    "##### FACTORIAL ITERATIVE WAY"
   ]
  },
  {
   "cell_type": "code",
   "execution_count": 23,
   "metadata": {},
   "outputs": [
    {
     "name": "stdout",
     "output_type": "stream",
     "text": [
      "Enter n: 5\n",
      "5 is 120\n"
     ]
    }
   ],
   "source": [
    "n = int(input(\"Enter n: \"))\n",
    "f = 1\n",
    "i = 2\n",
    "while i<=n:\n",
    "    f*=i\n",
    "    i+=1\n",
    "print(f\"{n} is {f}\")    "
   ]
  },
  {
   "cell_type": "code",
   "execution_count": null,
   "metadata": {},
   "outputs": [],
   "source": []
  }
 ],
 "metadata": {
  "kernelspec": {
   "display_name": "Python 3",
   "language": "python",
   "name": "python3"
  },
  "language_info": {
   "codemirror_mode": {
    "name": "ipython",
    "version": 3
   },
   "file_extension": ".py",
   "mimetype": "text/x-python",
   "name": "python",
   "nbconvert_exporter": "python",
   "pygments_lexer": "ipython3",
   "version": "3.8.5"
  }
 },
 "nbformat": 4,
 "nbformat_minor": 2
}
