{
 "cells": [
  {
   "cell_type": "markdown",
   "metadata": {},
   "source": [
    "## Extra Features of classes"
   ]
  },
  {
   "cell_type": "markdown",
   "metadata": {},
   "source": [
    "## Properties can be classified into 3 catagories:\n",
    "#### 1. READ ONLY\n",
    "#### 2. READ WRITE\n",
    "#### 3. WRITE ONLY"
   ]
  },
  {
   "cell_type": "code",
   "execution_count": 17,
   "metadata": {},
   "outputs": [],
   "source": [
    "class Rectangle:\n",
    "    def __init__(self, length=0.0, breadth=0.0):\n",
    "        self.length = length\n",
    "        self.breadth = breadth\n",
    "    def __setattr__(self,attr,val):\n",
    "        if attr == 'length' or attr =='breadth':\n",
    "            self.__dict__[attr] = val if val>=0.0 else -val\n",
    "        else:\n",
    "            self.__dict__[atrr] = val\n",
    "    def __str__(self):\n",
    "        return f\" Rectangle(length: {self.length}, breadth: {self.breadth})\"\n",
    "    def __getattr__(self, attr): # read only properties and atrribute setup\n",
    "        if attr == 'area':\n",
    "            return self.length* self.breadth\n",
    "        elif attr == 'perimeter': \n",
    "            return 2*(self.length+self.breadth)\n",
    "    "
   ]
  },
  {
   "cell_type": "code",
   "execution_count": 18,
   "metadata": {},
   "outputs": [],
   "source": [
    "r1 = Rectangle(12.0,5.0)"
   ]
  },
  {
   "cell_type": "code",
   "execution_count": 19,
   "metadata": {},
   "outputs": [
    {
     "name": "stdout",
     "output_type": "stream",
     "text": [
      " Rectangle(length: 12.0, breadth: 5.0)\n"
     ]
    }
   ],
   "source": [
    "print(r1)"
   ]
  },
  {
   "cell_type": "code",
   "execution_count": 20,
   "metadata": {},
   "outputs": [
    {
     "data": {
      "text/plain": [
       "60.0"
      ]
     },
     "execution_count": 20,
     "metadata": {},
     "output_type": "execute_result"
    }
   ],
   "source": [
    "r1.area"
   ]
  },
  {
   "cell_type": "code",
   "execution_count": 21,
   "metadata": {},
   "outputs": [
    {
     "data": {
      "text/plain": [
       "34.0"
      ]
     },
     "execution_count": 21,
     "metadata": {},
     "output_type": "execute_result"
    }
   ],
   "source": [
    "r1.perimeter"
   ]
  },
  {
   "cell_type": "code",
   "execution_count": 22,
   "metadata": {},
   "outputs": [
    {
     "data": {
      "text/plain": [
       "{'length': 12.0, 'breadth': 5.0}"
      ]
     },
     "execution_count": 22,
     "metadata": {},
     "output_type": "execute_result"
    }
   ],
   "source": [
    "r1.__dict__ # the above atrributes dont store in dictionary"
   ]
  },
  {
   "cell_type": "code",
   "execution_count": 23,
   "metadata": {},
   "outputs": [],
   "source": [
    "r2 = Rectangle(7,13)"
   ]
  },
  {
   "cell_type": "code",
   "execution_count": 24,
   "metadata": {},
   "outputs": [
    {
     "ename": "TypeError",
     "evalue": "unsupported operand type(s) for +: 'Rectangle' and 'Rectangle'",
     "output_type": "error",
     "traceback": [
      "\u001b[1;31m---------------------------------------------------------------------------\u001b[0m",
      "\u001b[1;31mTypeError\u001b[0m                                 Traceback (most recent call last)",
      "\u001b[1;32m<ipython-input-24-e6d583e738a7>\u001b[0m in \u001b[0;36m<module>\u001b[1;34m\u001b[0m\n\u001b[1;32m----> 1\u001b[1;33m \u001b[0mr\u001b[0m \u001b[1;33m=\u001b[0m \u001b[0mr1\u001b[0m \u001b[1;33m+\u001b[0m \u001b[0mr2\u001b[0m\u001b[1;33m\u001b[0m\u001b[1;33m\u001b[0m\u001b[0m\n\u001b[0m",
      "\u001b[1;31mTypeError\u001b[0m: unsupported operand type(s) for +: 'Rectangle' and 'Rectangle'"
     ]
    }
   ],
   "source": [
    "r = r1 + r2"
   ]
  },
  {
   "cell_type": "code",
   "execution_count": 25,
   "metadata": {},
   "outputs": [],
   "source": [
    "class Rectangle:\n",
    "    def __init__(self, length=0.0, breadth=0.0):\n",
    "        self.length = length\n",
    "        self.breadth = breadth\n",
    "    def __setattr__(self,attr,val):\n",
    "        if attr == 'length' or attr =='breadth':\n",
    "            self.__dict__[attr] = val if val>=0.0 else -val\n",
    "        else:\n",
    "            self.__dict__[atrr] = val\n",
    "    def __str__(self):\n",
    "        return f\" Rectangle(length: {self.length}, breadth: {self.breadth})\"\n",
    "    def __getattr__(self, attr):\n",
    "        if attr == 'area':\n",
    "            return self.length* self.breadth\n",
    "        elif attr == 'perimeter':\n",
    "            return 2*(self.length+self.breadth)\n",
    "    def __add__(self,r):\n",
    "        return Rectangle(self.length+ r.length, self.breadth+r.breadth)    "
   ]
  },
  {
   "cell_type": "code",
   "execution_count": 26,
   "metadata": {},
   "outputs": [],
   "source": [
    "r1 = Rectangle(12.0,5.0)\n"
   ]
  },
  {
   "cell_type": "code",
   "execution_count": 32,
   "metadata": {},
   "outputs": [],
   "source": [
    "r2 = Rectangle(7,13)"
   ]
  },
  {
   "cell_type": "code",
   "execution_count": 33,
   "metadata": {},
   "outputs": [],
   "source": [
    "r = r1+r2 # r = r1.__add__(r2)"
   ]
  },
  {
   "cell_type": "code",
   "execution_count": 34,
   "metadata": {},
   "outputs": [
    {
     "name": "stdout",
     "output_type": "stream",
     "text": [
      " Rectangle(length: 20.0, breadth: 20.0)\n"
     ]
    }
   ],
   "source": [
    "print(r)"
   ]
  },
  {
   "cell_type": "markdown",
   "metadata": {},
   "source": [
    "# Static Properties"
   ]
  },
  {
   "cell_type": "code",
   "execution_count": 53,
   "metadata": {},
   "outputs": [],
   "source": [
    "class Rectangle:\n",
    "    #defining static property without any constructor or property\n",
    "    count = 0\n",
    "    \n",
    "    \n",
    "    def __init__(self, length=0.0, breadth=0.0):\n",
    "        self.length = length\n",
    "        self.breadth = breadth\n",
    "        Rectangle.count+=1\n",
    "    def __setattr__(self,attr,val):\n",
    "        if attr == 'length' or attr =='breadth':\n",
    "            self.__dict__[attr] = val if val>=0.0 else -val\n",
    "        else:\n",
    "            self.__dict__[atrr] = val\n",
    "    def __str__(self):\n",
    "        # return f\" Rectangle(length: {self.length}, breadth: {self.breadth})\"\n",
    "        return f\" {self.__class__}(length: {self.length}, breadth: {self.breadth})\"\n",
    "    def __getattr__(self, attr):\n",
    "        if attr == 'area':\n",
    "            return self.length* self.breadth\n",
    "        elif attr == 'perimeter':\n",
    "            return 2*(self.length+self.breadth)\n",
    "    def __add__(self,r):\n",
    "        return Rectangle(self.length+ r.length, self.breadth+r.breadth)    "
   ]
  },
  {
   "cell_type": "code",
   "execution_count": 54,
   "metadata": {},
   "outputs": [],
   "source": [
    "r1 = Rectangle(12,6)\n",
    "r2 = Rectangle(6,34)"
   ]
  },
  {
   "cell_type": "code",
   "execution_count": 55,
   "metadata": {},
   "outputs": [
    {
     "data": {
      "text/plain": [
       "2"
      ]
     },
     "execution_count": 55,
     "metadata": {},
     "output_type": "execute_result"
    }
   ],
   "source": [
    "Rectangle.count"
   ]
  },
  {
   "cell_type": "code",
   "execution_count": 56,
   "metadata": {},
   "outputs": [],
   "source": [
    "class Square(Rectangle):\n",
    "    def __init__(self, length):\n",
    "        ## super() is used to call constructor of rectangle()\n",
    "        super().__init__(length,length)\n",
    "        '''\n",
    "    def __str__(self):\n",
    "        return f\" Square(length: {self.length})\"\n",
    "        '''\n",
    "        "
   ]
  },
  {
   "cell_type": "code",
   "execution_count": 57,
   "metadata": {},
   "outputs": [],
   "source": [
    "s = Square(12)"
   ]
  },
  {
   "cell_type": "code",
   "execution_count": 58,
   "metadata": {},
   "outputs": [
    {
     "data": {
      "text/plain": [
       "12"
      ]
     },
     "execution_count": 58,
     "metadata": {},
     "output_type": "execute_result"
    }
   ],
   "source": [
    "s.length"
   ]
  },
  {
   "cell_type": "code",
   "execution_count": 59,
   "metadata": {},
   "outputs": [
    {
     "data": {
      "text/plain": [
       "144"
      ]
     },
     "execution_count": 59,
     "metadata": {},
     "output_type": "execute_result"
    }
   ],
   "source": [
    "s.area"
   ]
  },
  {
   "cell_type": "code",
   "execution_count": 60,
   "metadata": {},
   "outputs": [
    {
     "name": "stdout",
     "output_type": "stream",
     "text": [
      " <class '__main__.Square'>(length: 12, breadth: 12)\n"
     ]
    }
   ],
   "source": [
    "print(s)"
   ]
  },
  {
   "cell_type": "code",
   "execution_count": 61,
   "metadata": {},
   "outputs": [
    {
     "data": {
      "text/plain": [
       "__main__.Square"
      ]
     },
     "execution_count": 61,
     "metadata": {},
     "output_type": "execute_result"
    }
   ],
   "source": [
    "s.__class__"
   ]
  },
  {
   "cell_type": "code",
   "execution_count": null,
   "metadata": {},
   "outputs": [],
   "source": [
    "chere de chere de ar parchi na"
   ]
  }
 ],
 "metadata": {
  "kernelspec": {
   "display_name": "Python 3",
   "language": "python",
   "name": "python3"
  },
  "language_info": {
   "codemirror_mode": {
    "name": "ipython",
    "version": 3
   },
   "file_extension": ".py",
   "mimetype": "text/x-python",
   "name": "python",
   "nbconvert_exporter": "python",
   "pygments_lexer": "ipython3",
   "version": "3.8.5"
  }
 },
 "nbformat": 4,
 "nbformat_minor": 2
}
