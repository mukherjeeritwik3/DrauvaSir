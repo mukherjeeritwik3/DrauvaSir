{
 "cells": [
  {
   "cell_type": "markdown",
   "metadata": {},
   "source": [
    "# Merge sort"
   ]
  },
  {
   "cell_type": "code",
   "execution_count": 7,
   "metadata": {},
   "outputs": [],
   "source": [
    "def merge_sort(a,first,last):\n",
    "    if first<last:\n",
    "        mid = (first+last)//2\n",
    "        merge_sort(a,first,mid)\n",
    "        merge_sort(a,mid+1,last)\n",
    "        merge(a,first,mid,last)\n",
    "def merge(a,first,mid,last):\n",
    "    l = a[first:mid+1]\n",
    "    r = a[mid+1:last+1]\n",
    "    l.append(float('inf')) # last element infinity\n",
    "    r.append(float('inf')) # last elemnt infinity\n",
    "    i = j= 0\n",
    "    for k in range(first,last+1):\n",
    "        if l[i]<= r[j]:\n",
    "            a[k] = l[i]\n",
    "            i+=1\n",
    "        else:\n",
    "            a[k] = r[j]\n",
    "            j+=1"
   ]
  },
  {
   "cell_type": "code",
   "execution_count": 8,
   "metadata": {},
   "outputs": [],
   "source": [
    "a = [13,35,12,25,74,234,312,11,8]"
   ]
  },
  {
   "cell_type": "code",
   "execution_count": 9,
   "metadata": {},
   "outputs": [],
   "source": [
    "merge_sort(a, 0, len(a)-1)"
   ]
  },
  {
   "cell_type": "code",
   "execution_count": 10,
   "metadata": {},
   "outputs": [
    {
     "data": {
      "text/plain": [
       "[8, 11, 12, 13, 25, 35, 74, 234, 312]"
      ]
     },
     "execution_count": 10,
     "metadata": {},
     "output_type": "execute_result"
    }
   ],
   "source": [
    "a"
   ]
  },
  {
   "cell_type": "code",
   "execution_count": null,
   "metadata": {},
   "outputs": [],
   "source": []
  }
 ],
 "metadata": {
  "kernelspec": {
   "display_name": "Python 3",
   "language": "python",
   "name": "python3"
  },
  "language_info": {
   "codemirror_mode": {
    "name": "ipython",
    "version": 3
   },
   "file_extension": ".py",
   "mimetype": "text/x-python",
   "name": "python",
   "nbconvert_exporter": "python",
   "pygments_lexer": "ipython3",
   "version": "3.7.1"
  }
 },
 "nbformat": 4,
 "nbformat_minor": 2
}
