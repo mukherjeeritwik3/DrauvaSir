{
 "cells": [
  {
   "cell_type": "markdown",
   "metadata": {},
   "source": [
    "### Write a program to write from 1 to 10"
   ]
  },
  {
   "cell_type": "code",
   "execution_count": 1,
   "metadata": {},
   "outputs": [
    {
     "name": "stdout",
     "output_type": "stream",
     "text": [
      "1\n",
      "2\n",
      "3\n",
      "4\n",
      "5\n",
      "6\n",
      "7\n",
      "8\n",
      "9\n",
      "10\n"
     ]
    }
   ],
   "source": [
    "for i in range(1,11):\n",
    "    print(i)"
   ]
  },
  {
   "cell_type": "markdown",
   "metadata": {},
   "source": [
    "#### Write a program to calculate the sum of first 10 natural number"
   ]
  },
  {
   "cell_type": "code",
   "execution_count": 2,
   "metadata": {},
   "outputs": [
    {
     "name": "stdout",
     "output_type": "stream",
     "text": [
      "55\n"
     ]
    }
   ],
   "source": [
    "sum = 0\n",
    "for i in range(1,11):\n",
    "    sum+=i\n",
    "print(sum)    "
   ]
  },
  {
   "cell_type": "markdown",
   "metadata": {},
   "source": [
    "#### Write a program that prompts the user to input a positive integer. It should then print the multiplication table of that number. "
   ]
  },
  {
   "cell_type": "code",
   "execution_count": 3,
   "metadata": {},
   "outputs": [
    {
     "name": "stdout",
     "output_type": "stream",
     "text": [
      "5\n",
      "5*1 = 5\n",
      "5*2 = 10\n",
      "5*3 = 15\n",
      "5*4 = 20\n",
      "5*5 = 25\n",
      "5*6 = 30\n",
      "5*7 = 35\n",
      "5*8 = 40\n",
      "5*9 = 45\n",
      "5*10 = 50\n"
     ]
    }
   ],
   "source": [
    "n = int(input())\n",
    "for i in range(1,11):\n",
    "    print(f\"{n}*{i} = {n*i}\")"
   ]
  },
  {
   "cell_type": "markdown",
   "metadata": {},
   "source": [
    "#### Write a program to find the factorial value of any number entered through the keyboard. "
   ]
  },
  {
   "cell_type": "code",
   "execution_count": 4,
   "metadata": {},
   "outputs": [
    {
     "name": "stdout",
     "output_type": "stream",
     "text": [
      "5\n",
      "120\n"
     ]
    }
   ],
   "source": [
    "def factorial(n):\n",
    "    return 1 if n==0 else n* factorial(n-1)\n",
    "n = int(input())\n",
    "print(factorial(n))"
   ]
  },
  {
   "cell_type": "markdown",
   "metadata": {},
   "source": [
    "#### Two numbers are entered through the keyboard. Write a program to find the value of one number raised to the power of another. (Do not use Java built-in method)"
   ]
  },
  {
   "cell_type": "code",
   "execution_count": 6,
   "metadata": {},
   "outputs": [
    {
     "name": "stdout",
     "output_type": "stream",
     "text": [
      "Enter the base number: 5\n",
      "Enter the power number 2\n",
      "25\n"
     ]
    }
   ],
   "source": [
    "base = int(input(\"Enter the base number: \"))\n",
    "power = int(input(\"Enter the power number \"))\n",
    "print(base**power)"
   ]
  },
  {
   "cell_type": "markdown",
   "metadata": {},
   "source": [
    "#### Write a program that prompts the user to input an integer and then outputs the number with the digits reversed. For example, if the input is 12345, the output should be 54321."
   ]
  },
  {
   "cell_type": "code",
   "execution_count": 12,
   "metadata": {},
   "outputs": [
    {
     "name": "stdout",
     "output_type": "stream",
     "text": [
      "48456\n",
      "65484\n"
     ]
    }
   ],
   "source": [
    "n = input()\n",
    "print(int(n[::-1]))"
   ]
  },
  {
   "cell_type": "markdown",
   "metadata": {},
   "source": [
    "#### Write a program that reads a set of integers, and then prints the sum of the even and odd integers."
   ]
  },
  {
   "cell_type": "code",
   "execution_count": 13,
   "metadata": {},
   "outputs": [
    {
     "name": "stdout",
     "output_type": "stream",
     "text": [
      "5\n",
      "Enter the number 21\n",
      "Enter the number 46\n",
      "Enter the number 12\n",
      "Enter the number 39\n",
      "Enter the number 45\n",
      "odd number= 105\n",
      "even number= 58\n"
     ]
    }
   ],
   "source": [
    "testCase = int(input())\n",
    "even = 0\n",
    "odd = 0\n",
    "for i in range(testCase):\n",
    "    n = int(input(\"Enter the number \"))\n",
    "    if n%2==0:\n",
    "        even+=n\n",
    "    else:\n",
    "        odd+=n\n",
    "print(\"odd number=\",odd)  \n",
    "print(\"even number=\",even)"
   ]
  },
  {
   "cell_type": "markdown",
   "metadata": {},
   "source": [
    "#### Write a program that prompts the user to input a positive integer. It should then output a message indicating whether the number is a prime number. "
   ]
  },
  {
   "cell_type": "code",
   "execution_count": 21,
   "metadata": {},
   "outputs": [
    {
     "name": "stdout",
     "output_type": "stream",
     "text": [
      "Enter the positive integer 2\n",
      "Prime\n"
     ]
    }
   ],
   "source": [
    "n = int(input(\"Enter the positive integer \"))\n",
    "if n >1:\n",
    "    for i in range(2, n):\n",
    "        if (n%i==0):\n",
    "            print(\"not Prime\")\n",
    "            break\n",
    "    else:\n",
    "        print(\"Prime\")\n",
    "else:\n",
    "    print(\"not prime\")"
   ]
  },
  {
   "cell_type": "markdown",
   "metadata": {},
   "source": [
    "#### Write a program to calculate HCF of Two given number."
   ]
  },
  {
   "cell_type": "code",
   "execution_count": 19,
   "metadata": {},
   "outputs": [
    {
     "name": "stdout",
     "output_type": "stream",
     "text": [
      "Enter the first number 195\n",
      "Enter the second Number 143\n",
      "13\n"
     ]
    }
   ],
   "source": [
    "def hcf(x,y):\n",
    "    if x>y:\n",
    "        smaller = y\n",
    "    else:\n",
    "        smaller = x\n",
    "    for i in range(1,smaller+1):\n",
    "        if((x%i==0) and (y%i==0)):\n",
    "            hcf = i\n",
    "    return hcf        \n",
    "\n",
    "first = int(input(\"Enter the first number \"))\n",
    "second = int(input(\"Enter the second Number \"))\n",
    "print(hcf(first,second))"
   ]
  },
  {
   "cell_type": "markdown",
   "metadata": {},
   "source": [
    "#### Write a do-while loop that asks the user to enter two numbers. The numbers should be added and the sum displayed. The loop should ask the user whether he or she wishes to perform the operation again. If so, the loop should repeat; otherwise it should terminate. "
   ]
  },
  {
   "cell_type": "code",
   "execution_count": 20,
   "metadata": {},
   "outputs": [
    {
     "name": "stdout",
     "output_type": "stream",
     "text": [
      "12\n",
      "6\n",
      "18\n",
      "Y to sum another , N to stop the loop y\n",
      "17\n",
      "3\n",
      "20\n",
      "Y to sum another , N to stop the loop a\n"
     ]
    }
   ],
   "source": [
    "\n",
    "while True:\n",
    "    a = int(input())\n",
    "    b = int(input())\n",
    "    print(a+b)\n",
    "    inp = input(\"Y to sum another , N to stop the loop \")\n",
    "    if inp == 'y':\n",
    "        continue\n",
    "    else:\n",
    "        break"
   ]
  },
  {
   "cell_type": "markdown",
   "metadata": {},
   "source": [
    "#### Write a program to enter the numbers till the user wants and at the end it should display the count of positive, negative and zeros entered. "
   ]
  },
  {
   "cell_type": "code",
   "execution_count": 22,
   "metadata": {},
   "outputs": [
    {
     "name": "stdout",
     "output_type": "stream",
     "text": [
      "Enter the num12\n",
      "press y to continue>>> y\n",
      "Enter the num45\n",
      "press y to continue>>> y\n",
      "Enter the num0\n",
      "press y to continue>>> y\n",
      "Enter the num-4\n",
      "press y to continue>>> y\n",
      "Enter the num-87\n",
      "press y to continue>>> y\n",
      "Enter the num-41\n",
      "press y to continue>>> as\n",
      "2\n",
      "3\n",
      "1\n"
     ]
    }
   ],
   "source": [
    "possitive = 0\n",
    "negative = 0\n",
    "zeros = 0\n",
    "while True:\n",
    "    num = int(input(\"Enter the num\"))\n",
    "    if num >0:\n",
    "        possitive+=1\n",
    "    elif num<0:\n",
    "        negative+=1\n",
    "    else:\n",
    "        zeros+=1\n",
    "    inp = input(\"press y to continue>>> \")\n",
    "    if inp ==\"y\":\n",
    "        continue\n",
    "    else:\n",
    "        break\n",
    "print(possitive)\n",
    "print(negative)\n",
    "print(zeros)"
   ]
  },
  {
   "cell_type": "markdown",
   "metadata": {},
   "source": [
    "#### Write a program to enter the numbers till the user wants and at the end the program should display the largest and smallest numbers entered."
   ]
  },
  {
   "cell_type": "code",
   "execution_count": 2,
   "metadata": {},
   "outputs": [
    {
     "name": "stdout",
     "output_type": "stream",
     "text": [
      "45\n",
      "press y to continuey\n",
      "464648864846\n",
      "press y to continuey\n",
      "-48648668148618664546586\n",
      "press y to continuey\n",
      "645546564564876876876\n",
      "press y to continued\n",
      "645546564564876876876\n",
      "-48648668148618664546586\n"
     ]
    }
   ],
   "source": [
    "import sys\n",
    "max = sys.maxsize\n",
    "min = -sys.maxsize-1\n",
    "while True:\n",
    "    num = int(input())\n",
    "    if num>max:\n",
    "        max = num\n",
    "    elif num<min:\n",
    "        min = num\n",
    "    \n",
    "    inp = input(\"press y to continue\")\n",
    "    if inp == 'y':\n",
    "        continue\n",
    "    else:\n",
    "        break\n",
    "print(max)\n",
    "print(min)        "
   ]
  },
  {
   "cell_type": "markdown",
   "metadata": {},
   "source": [
    "#### Write a program to print out all Armstrong numbers between 1 and 500. If sum of cubes of each digit of the number is equal to the number itself, then the number is called an Armstrong number.\n",
    "#### For example, 153 = ( 1 * 1 * 1 ) + ( 5 * 5 * 5 ) + ( 3 * 3 * 3 ) "
   ]
  },
  {
   "cell_type": "code",
   "execution_count": 5,
   "metadata": {},
   "outputs": [
    {
     "name": "stdout",
     "output_type": "stream",
     "text": [
      "1 is an armstrong number\n",
      "153 is an armstrong number\n",
      "370 is an armstrong number\n",
      "371 is an armstrong number\n",
      "407 is an armstrong number\n"
     ]
    }
   ],
   "source": [
    "for i in range(1,500+1):\n",
    "    strs = str(i)\n",
    "    sum = 0\n",
    "    for j in range(len(strs)):\n",
    "        sum+=int(strs[j])**3\n",
    "    if i == sum:\n",
    "        print(f\"{i} is an armstrong number\")\n",
    "        "
   ]
  },
  {
   "cell_type": "markdown",
   "metadata": {},
   "source": [
    " #### Write a program to print Fibonacci series of n terms where n is input by user : 0 1 1 2 3 5 8 13 24 .....  "
   ]
  },
  {
   "cell_type": "code",
   "execution_count": 13,
   "metadata": {},
   "outputs": [
    {
     "name": "stdout",
     "output_type": "stream",
     "text": [
      "10\n",
      "0\n",
      "1\n",
      "1\n",
      "2\n",
      "3\n",
      "5\n",
      "8\n",
      "13\n",
      "21\n",
      "34\n"
     ]
    }
   ],
   "source": [
    "a= 0 \n",
    "b = 1\n",
    "n = int(input())\n",
    "for i in range(1,n+1):\n",
    "    if i == 1:\n",
    "        print(a)\n",
    "    elif i == 2:\n",
    "        print(1)\n",
    "    else:\n",
    "        temp =b\n",
    "        b = b+a\n",
    "        a = temp\n",
    "        print(b)"
   ]
  },
  {
   "cell_type": "markdown",
   "metadata": {},
   "source": [
    " #### Write a program to calculate the sum of following series where n is input by user.  1 + 1/2 + 1/3 + 1/4 + 1/5 +…………1/n"
   ]
  },
  {
   "cell_type": "code",
   "execution_count": 14,
   "metadata": {},
   "outputs": [
    {
     "name": "stdout",
     "output_type": "stream",
     "text": [
      "6\n",
      "2.4499999999999997\n"
     ]
    }
   ],
   "source": [
    "n = int(input())\n",
    "sum = 0\n",
    "for i in range(1,n+1):\n",
    "    if i == 1:\n",
    "        sum+=1\n",
    "    else:\n",
    "        sum+= 1/i\n",
    "print(sum)        "
   ]
  },
  {
   "cell_type": "markdown",
   "metadata": {},
   "source": [
    "#### Compute the natural logarithm of 2, by adding up to n terms in the series\n",
    "#### 1 - 1/2 + 1/3 - 1/4 + 1/5 -... 1/n\n",
    "#### where n is a positive integer and input by user."
   ]
  },
  {
   "cell_type": "code",
   "execution_count": 16,
   "metadata": {},
   "outputs": [
    {
     "data": {
      "text/plain": [
       "'\\nNot Able to complete it\\n'"
      ]
     },
     "execution_count": 16,
     "metadata": {},
     "output_type": "execute_result"
    }
   ],
   "source": [
    "\"\"\"\n",
    "Not Able to complete it\n",
    "\"\"\""
   ]
  },
  {
   "cell_type": "markdown",
   "metadata": {},
   "source": [
    "#### Write a program that generates a random number and asks the user to guess what the number is. If the user's guess is higher than the random number, the program should display \"Too high, try again.\" If the user's guess is lower than the random number, the program should display \"Too low, try again.\" The program should use a loop that repeats until the user correctly guesses the random number."
   ]
  },
  {
   "cell_type": "code",
   "execution_count": 23,
   "metadata": {},
   "outputs": [
    {
     "name": "stdout",
     "output_type": "stream",
     "text": [
      "Guess the number200\n",
      "too Low go higher\n",
      "Guess the number300\n",
      "Too High go Lower\n",
      "Guess the number250\n",
      "too Low go higher\n",
      "Guess the number270\n",
      "Too High go Lower\n",
      "Guess the number260\n",
      "too Low go higher\n",
      "Guess the number265\n",
      "too Low go higher\n",
      "Guess the number267\n",
      "Too High go Lower\n",
      "Guess the number266\n",
      "correct ans\n"
     ]
    }
   ],
   "source": [
    "from random import randint\n",
    "a = randint(1,500)\n",
    "while True:\n",
    "    b = int(input(\"Guess the number\"))\n",
    "    if b>a:\n",
    "        print(\"Too High go Lower\")\n",
    "        continue\n",
    "    elif b<a:\n",
    "        print(\"too Low go higher\")\n",
    "        continue\n",
    "    else:\n",
    "        print(\"correct ans\")\n",
    "        break"
   ]
  },
  {
   "cell_type": "markdown",
   "metadata": {},
   "source": []
  },
  {
   "cell_type": "code",
   "execution_count": null,
   "metadata": {},
   "outputs": [],
   "source": []
  }
 ],
 "metadata": {
  "kernelspec": {
   "display_name": "Python 3",
   "language": "python",
   "name": "python3"
  },
  "language_info": {
   "codemirror_mode": {
    "name": "ipython",
    "version": 3
   },
   "file_extension": ".py",
   "mimetype": "text/x-python",
   "name": "python",
   "nbconvert_exporter": "python",
   "pygments_lexer": "ipython3",
   "version": "3.8.5"
  }
 },
 "nbformat": 4,
 "nbformat_minor": 4
}
